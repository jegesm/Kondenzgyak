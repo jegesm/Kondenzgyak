{
 "cells": [
  {
   "cell_type": "markdown",
   "metadata": {
    "slideshow": {
     "slide_type": "slide"
    }
   },
   "source": [
    "Miller-indexek és kristálysíkok online:\n",
    "http://calistry.org/calculate/latticePlanesMillerIndices\n",
    "\n",
    "\n",
    "Krisztallográfiás konverziók és azok magyarázata:\n",
    "http://ssd.phys.strath.ac.uk/resources/crystallography/crystallographic-direction-calculator/\n",
    "\n",
    "A Wolfram kristálynézegető online oldala:\n",
    "https://demonstrations.wolfram.com/CrystalViewer/"
   ]
  },
  {
   "cell_type": "markdown",
   "metadata": {
    "slideshow": {
     "slide_type": "slide"
    }
   },
   "source": [
    "https://www.nobelprize.org/prizes/chemistry/2011/shechtman/lecture/\n",
    "<img src=\"../images/NewDefCrystal.png\" width=\"500\">"
   ]
  },
  {
   "cell_type": "markdown",
   "metadata": {
    "slideshow": {
     "slide_type": "slide"
    }
   },
   "source": [
    "## Röntgen diffrakció \n",
    "\n",
    "* rugalmas szórás -> nincs energia transzfer\n",
    "$$|k_i|=|k_o|=\\frac{2\\pi}{\\lambda}$$\n",
    "<img src=\"../images/4deltasdiffrakcio.png\" width=\"300\">"
   ]
  },
  {
   "cell_type": "markdown",
   "metadata": {
    "slideshow": {
     "slide_type": "slide"
    }
   },
   "source": [
    "<img src=\"../images/4deltasdiffrakcio.png\" width=\"300\">\n",
    "\n",
    "### A két nyaláb útkülönbsége\n",
    "$ \\mathbf{\\underline{R}_n}\\cos\\alpha = -\\mathbf{\\underline{R}_n}\\frac{\\mathbf{\\underline{k}_i}}{|k_i|}$ $\\hspace{10mm}$\n",
    "$\\mathbf{\\underline{R}_n}\\cos\\beta = \\mathbf{\\underline{R}_n}\\frac{\\mathbf{\\underline{k}_o}}{|k_o|}$\n",
    "\n",
    "$$\\Delta s = \\mathbf{\\underline{R}_n}\\left(\\frac{\\mathbf{\\underline{k}_o}}{|\\mathbf{\\underline{k}_o}|}-\\frac{\\mathbf{\\underline{k}_i}}{|\\mathbf{\\underline{k}_i}|}\\right)= \\frac{\\mathbf{\\underline{R}_n}\\lambda}{2\\pi}(\\mathbf{\\underline{k}_o}-\\mathbf{\\underline{k}_i})$$\n",
    "\n",
    "### és a fáziskülönbség\n",
    "\n",
    "$$\\Delta \\phi=\\frac{\\Delta s}{\\lambda}2\\pi=\\mathbf{\\underline{R}_n}\\underbrace{(\\mathbf{\\underline{k}_o}-\\mathbf{\\underline{k}_i})}_\\mathbf{\\underline{\\kappa}} = \\mathbf{\\underline{R}_n}\\mathbf{\\underline{\\kappa}}$$\n"
   ]
  },
  {
   "cell_type": "markdown",
   "metadata": {
    "slideshow": {
     "slide_type": "slide"
    }
   },
   "source": [
    "### Amplitúdó adott szögben\n",
    "Itt az egész kristály térfogára integrálunk \n",
    "$$A(\\kappa)=\\int \\rho(\\mathbf{\\underline{r}})\\exp^{i\\Delta\\phi(\\mathbf{\\underline{r}})}\\mathrm{d}\\mathrm{V}=\\int \\rho(\\mathbf{\\underline{r}})\\exp^{i\\kappa\\mathbf{\\underline{r}}}\\mathrm{d}\\mathrm{r}^3$$\n",
    "$$I(\\kappa)=|A(\\kappa)|^2$$"
   ]
  },
  {
   "cell_type": "markdown",
   "metadata": {
    "slideshow": {
     "slide_type": "slide"
    }
   },
   "source": [
    "### Rácsperiódikus esetben\n",
    "Átírjuk úgy az előző kifejezést, hogy az integrál már csak az elemi cella térfogatára történik és azon belül is a bázis atomjaira külön-külön. Majd ezeket összegezzük $\\sum_{p}$ illetve összegzünk az összes elemi cellára is $\\sum_{\\underline{R}_n}$\n",
    "\n",
    "\n",
    "<img src=\"../images/cellabamutatonyil.svg.png\" width=\"300px\">\n",
    "\n",
    "\n",
    "$$A(\\kappa)=\\underbrace{\\sum_\\mathbf{\\underline{R}_n} \\exp^{i\\mathbf{\\underline{\\kappa}}\\mathbf{\\underline{R}_n}} }_\\text{Bragg-tényező}\\underbrace{\\sum_p \\exp^{i\\mathbf{\\underline{\\kappa}}\\mathbf{\\underline{r}_p}}}_\\text{  Szerkezeti tényező}\\underbrace{\\int \\rho(\\mathbf{\\underline{r}'})\\exp^{i\\mathbf{\\underline{\\kappa}}\\mathbf{\\underline{r}'}}\\mathrm{d}\\mathrm{r'}^3}_\\text{atomi szórási tényező}$$\n"
   ]
  },
  {
   "cell_type": "markdown",
   "metadata": {
    "slideshow": {
     "slide_type": "subslide"
    }
   },
   "source": [
    "### Rácsperiódikus esetben\n",
    "\n",
    "$$A(\\kappa)=\\underbrace{\\sum_\\mathbf{\\underline{R}_n} \\exp^{i\\mathbf{\\underline{\\kappa}}\\mathbf{\\underline{R}_n}} }_\\text{Bragg-tényező}\\underbrace{\\sum_p \\exp^{i\\mathbf{\\underline{\\kappa}}\\mathbf{\\underline{r}_p}}}_\\text{  Szerkezeti tényező}\\underbrace{\\int \\rho(\\mathbf{\\underline{r}'})\\exp^{i\\mathbf{\\underline{\\kappa}}\\mathbf{\\underline{r}'}}\\mathrm{d}\\mathrm{r'}^3}_{\\text{atomi szórási tényező, } f(\\mathbf{\\underline{\\kappa}})}$$\n",
    "\n",
    "\n",
    "$$A(\\mathbf{\\underline{\\kappa}}) = \\sigma(\\mathbf{\\underline{\\kappa}})\\sum_p \\exp^{i\\mathbf{\\underline{\\kappa}}\\mathbf{\\underline{r}_p}}f(\\mathbf{\\underline{\\kappa}})=\\sigma(\\mathbf{\\underline{\\kappa}})S(\\mathbf{\\underline{\\kappa}})$$"
   ]
  },
  {
   "cell_type": "code",
   "execution_count": 24,
   "metadata": {
    "slideshow": {
     "slide_type": "skip"
    }
   },
   "outputs": [
    {
     "name": "stdout",
     "output_type": "stream",
     "text": [
      "Populating the interactive namespace from numpy and matplotlib\n"
     ]
    },
    {
     "name": "stderr",
     "output_type": "stream",
     "text": [
      "/opt/conda/lib/python3.6/site-packages/IPython/core/magics/pylab.py:160: UserWarning: pylab import has clobbered these variables: ['interactive']\n",
      "`%matplotlib` prevents importing * from pylab and numpy\n",
      "  \"\\n`%matplotlib` prevents importing * from pylab and numpy\"\n"
     ]
    }
   ],
   "source": [
    "%pylab inline"
   ]
  },
  {
   "cell_type": "code",
   "execution_count": 2,
   "metadata": {
    "slideshow": {
     "slide_type": "skip"
    }
   },
   "outputs": [],
   "source": [
    "from __future__ import print_function\n",
    "from ipywidgets import interact, interactive, fixed, interact_manual\n",
    "import ipywidgets as widgets"
   ]
  },
  {
   "cell_type": "code",
   "execution_count": 11,
   "metadata": {
    "slideshow": {
     "slide_type": "skip"
    }
   },
   "outputs": [],
   "source": [
    "def ploteikr(i):\n",
    "    figsize(6,6)\n",
    "    kr=(random.random()-0.5)*4*pi\n",
    "    rkr = exp(1j*kr).real\n",
    "    ikr = exp(1j*kr).imag\n",
    "    fig = plt.figure()\n",
    "    ax = fig.add_subplot(111)\n",
    "    xlim(-1.5,1.5)\n",
    "    ylim(-1.5,1.5)\n",
    "    left,right = ax.get_xlim()\n",
    "    low,high = ax.get_ylim()\n",
    "    arrow( left, 0, right -left, 0, length_includes_head = True, head_width = 0.05 )\n",
    "    arrow( 0, low, 0, high-low, length_includes_head = True, head_width = 0.05 ) \n",
    "\n",
    "    grid()\n",
    "    \n",
    "    # Draw circle\n",
    "    circle = plt.Circle((0,0), 1.0, color='red', fill=False)\n",
    "    fig.gca().add_artist(circle)\n",
    "    title(\"A Bragg tényező értéke tetszőleges valós és reciproktérbeli vektorok esetén\")\n",
    "    plot(rkr,ikr, 'bo')"
   ]
  },
  {
   "cell_type": "markdown",
   "metadata": {
    "slideshow": {
     "slide_type": "slide"
    }
   },
   "source": [
    "## Bragg tényező\n",
    "\n",
    "$$\\underbrace{\\sum_\\mathbf{\\underline{R}_n} \\exp^{i\\mathbf{\\underline{\\kappa}}\\mathbf{\\underline{R}_n}} }_\\text{Bragg-tényező}$$"
   ]
  },
  {
   "cell_type": "code",
   "execution_count": 12,
   "metadata": {
    "scrolled": false,
    "slideshow": {
     "slide_type": "fragment"
    }
   },
   "outputs": [
    {
     "data": {
      "application/vnd.jupyter.widget-view+json": {
       "model_id": "966222bcee404109a67ee022395ebd5a",
       "version_major": 2,
       "version_minor": 0
      },
      "text/html": [
       "<p>Failed to display Jupyter Widget of type <code>interactive</code>.</p>\n",
       "<p>\n",
       "  If you're reading this message in Jupyter Notebook or JupyterLab, it may mean\n",
       "  that the widgets JavaScript is still loading. If this message persists, it\n",
       "  likely means that the widgets JavaScript library is either not installed or\n",
       "  not enabled. See the <a href=\"https://ipywidgets.readthedocs.io/en/stable/user_install.html\">Jupyter\n",
       "  Widgets Documentation</a> for setup instructions.\n",
       "</p>\n",
       "<p>\n",
       "  If you're reading this message in another notebook frontend (for example, a static\n",
       "  rendering on GitHub or <a href=\"https://nbviewer.jupyter.org/\">NBViewer</a>),\n",
       "  it may mean that your frontend doesn't currently support widgets.\n",
       "</p>\n"
      ],
      "text/plain": [
       "interactive(children=(IntSlider(value=0, description='i', max=30), Output()), _dom_classes=('widget-interact',))"
      ]
     },
     "metadata": {},
     "output_type": "display_data"
    }
   ],
   "source": [
    "interactive(ploteikr,i=widgets.IntSlider(min=0,max=30,step=1,value=0))"
   ]
  },
  {
   "cell_type": "markdown",
   "metadata": {
    "slideshow": {
     "slide_type": "slide"
    }
   },
   "source": [
    "## Hol várható a legnagyobb erősítés?\n",
    "\n",
    "$$\\exp^{i\\mathbf{\\underline{\\kappa}}\\mathbf{\\underline{R}_n}} = 1  \\hspace{5mm} \\mathrm{minden}\\hspace{2mm} \\mathbf{\\underline{R}_n} \\hspace{2mm} \\mathrm{ rácsvektor}\\hspace{2mm}\\mathrm{ értékre} $$\n",
    "$$\\mathbf{\\underline{\\kappa}}\\mathbf{\\underline{R}_n}=2\\pi(\\underbrace{n_1h + n_2k+n_3l}_\\text{egész számot kell adniuk})$$\n",
    "$$\\mathbf{\\underline{\\kappa}} = 2\\pi (h\\mathbf{\\underline{b}_1} + k\\mathbf{\\underline{b}_2} + l\\mathbf{\\underline{b}_3})= \\mathbf{\\underline{g}_{hkl}}$$"
   ]
  },
  {
   "cell_type": "markdown",
   "metadata": {
    "slideshow": {
     "slide_type": "slide"
    }
   },
   "source": [
    "## Atomi szórási tényező, form faktor\n",
    "(BME jegyzet 3.2)\n",
    "$$f(\\mathbf{\\underline{\\kappa}}) = \\int \\rho(\\mathbf{\\underline{r}})\\exp^{i\\mathbf{\\underline{\\kappa}}\\mathbf{\\underline{r}}}\\mathrm{d}\\mathrm{r}^3=\\frac{4\\pi}{\\mathbf{\\underline{\\kappa}}}\\int_0^\\infty\\mathrm{dr}\\mathbf{\\underline{r}}\\rho(\\mathbf{\\underline{r}})\\sin(\\mathbf{\\underline{\\kappa}}\\mathbf{\\underline{r}})$$\n",
    "\n",
    "### Atomi szórási tényező 1s pályák esetén\n",
    "(BME jegyzet 3.2.1)\n",
    "$$f_{1s}(\\mathbf{\\underline{\\kappa}})=\\frac{q}{\\left[ 1+ \\left(\\frac{\\mathbf{\\underline{\\kappa}}a_{B}}{2}\\right)^2 \\right]}$$"
   ]
  },
  {
   "cell_type": "code",
   "execution_count": 42,
   "metadata": {
    "slideshow": {
     "slide_type": "skip"
    }
   },
   "outputs": [],
   "source": [
    "def plotfk():\n",
    "    x=linspace(-5,5,100)\n",
    "    fig = plt.figure()\n",
    "    ax=fig.add_subplot(111)\n",
    "    plot(x, 1/abs(1+x**2))\n",
    "    xlabel(\"x\", fontsize=26)\n",
    "    ylabel(r\"$\\frac{1}{|1+x^2|}$\", fontsize=26);\n",
    "    xlim(-5,5)\n",
    "    ylim(-0.2,1.2)\n",
    "    left, right = ax.get_xlim()\n",
    "    low, high = ax.get_ylim()\n",
    "    arrow( left, 0, right -left, 0, length_includes_head = True, head_width = 0.05 )\n",
    "    arrow( 0, -0.5, 0, high+0.5, length_includes_head = True, head_width = 0.05 ) ;\n"
   ]
  },
  {
   "cell_type": "markdown",
   "metadata": {
    "slideshow": {
     "slide_type": "slide"
    }
   },
   "source": [
    "$$f_{1s}(\\mathbf{\\underline{\\kappa}})=\\frac{q}{\\left[ 1+ \\left(\\frac{\\mathbf{\\underline{\\kappa}}a_{B}}{2}\\right)^2 \\right]}$$"
   ]
  },
  {
   "cell_type": "code",
   "execution_count": 43,
   "metadata": {
    "slideshow": {
     "slide_type": "-"
    }
   },
   "outputs": [
    {
     "data": {
      "image/png": "[encoded data removed]",
      "text/plain": [
       "<Figure size 432x288 with 1 Axes>"
      ]
     },
     "metadata": {},
     "output_type": "display_data"
    }
   ],
   "source": [
    "plotfk()"
   ]
  },
  {
   "cell_type": "markdown",
   "metadata": {
    "slideshow": {
     "slide_type": "slide"
    }
   },
   "source": [
    "### Számoljuk ki a diffrakciós csúcsok relatív intenzitását\n",
    "\n",
    "<img src=\"../images/formfaktor-pelda1.png\">\n",
    "\n",
    "$$A(\\kappa)=\\sigma(\\mathbf{\\underline{\\kappa}})S(\\mathbf{\\underline{\\kappa}})=\\underbrace{\\sum_\\mathbf{\\underline{R}_n} \\exp^{i\\mathbf{\\underline{\\kappa}}\\mathbf{\\underline{R}_n}} }_\\text{Bragg-tényező}\\underbrace{\\sum_p \\exp^{i\\mathbf{\\underline{\\kappa}}\\mathbf{\\underline{r}_p}}f(\\mathbf{\\underline{\\kappa}})}_\\text{ Szerkezeti tényező}$$"
   ]
  },
  {
   "cell_type": "markdown",
   "metadata": {
    "slideshow": {
     "slide_type": "slide"
    }
   },
   "source": [
    "### Számoljuk ki a diffrakciós csúcsok relatív intenzitását\n",
    "\n",
    "<img src=\"../images/formfaktor-pelda1.png\" width=\"200em\">\n",
    "\n",
    "$\\mathbf{\\underline{a}_1}=a(1,0,0)$ $\\hspace{5mm}$ $\\mathbf{\\underline{b}_1}=\\frac{2\\pi}{a}(1,0,0)$\n",
    "\n",
    "$\\mathbf{\\underline{a}_2}=a(0,1,0)$ $\\hspace{5mm}$ $\\mathbf{\\underline{b}_2}=\\frac{2\\pi}{a}(0,1,0)$\n",
    "\n",
    "$\\mathbf{\\underline{a}_3}=a(0,0,1)$ $\\hspace{5mm}$ $\\mathbf{\\underline{b}_3}=\\frac{2\\pi}{a}(0,0,1)$\n",
    "\n",
    "**Laue feltétel** miatt: $\\kappa = \\mathbf{\\underline{k}_o} - \\mathbf{\\underline{k}_i} = \\mathbf{\\underline{g}_{hkl}} = h\\mathbf{\\underline{b}_1} + k\\mathbf{\\underline{b}_2} + l\\mathbf{\\underline{b}_3}=\\frac{2\\pi}{a} (h\\mathbf{\\underline{e}_x} + k\\mathbf{\\underline{e}_y} + l\\mathbf{\\underline{e}_z}) $\n",
    "\n",
    "**Atomi bázisok**:\n",
    "\n",
    "$\\mathbf{\\underline{r}_1}=(0,0,0)$ $\\hspace{5mm}$  $\\mathbf{\\underline{r}_1}=\\frac{a}{2}(0,1,0)$ $\\hspace{5mm}$  $\\mathbf{\\underline{r}_1}=\\frac{a}{2}(0,0,1)$ $\\hspace{5mm}$  $S(\\mathbf{\\underline{\\kappa}}) = 1 + \\exp^{i\\pi k} + \\exp^{i\\pi l}$"
   ]
  },
  {
   "cell_type": "markdown",
   "metadata": {
    "slideshow": {
     "slide_type": "slide"
    }
   },
   "source": [
    "$\\mathbf{\\underline{r}_1}=(0,0,0)$ $\\hspace{5mm}$  $\\mathbf{\\underline{r}_1}=\\frac{a}{2}(0,1,0)$ $\\hspace{5mm}$  $\\mathbf{\\underline{r}_1}=\\frac{a}{2}(0,0,1)$ $\\hspace{5mm}$  $S(\\mathbf{\\underline{\\kappa}}) = 1 + \\exp^{i\\mathbf{\\underline{\\kappa}}k} + \\exp^{i\\mathbf{\\underline{\\kappa}}l}$\n",
    "\n",
    "h értéke teljesen mindegy, mivel nem szerepel $S(\\mathbf{\\underline{\\kappa}})$-ban\n",
    "\n",
    "$N=h^2+k^2+l^2$\n",
    "\n",
    "$S_r$ = a szerkezeti tényező relatív intenzitása\n",
    "\n",
    "\n",
    "| N | k | l | $S$ | $S_r$ |\n",
    "|---|:---:|:---:|---|---|\n",
    "| 0 | 0 | 0 | 3 | 1 |\n",
    "| 1 | 1 | 0 | 1 | $\\frac{1}{3}$ | \n",
    "| 1 | 0 | 1 | 1 | $\\frac{1}{3}$ | \n",
    "| 2 | 1 | 1 | 1 | $\\frac{1}{3}$ | \n",
    "| 5 | 2 | 1 | 1 | $\\frac{1}{3}$ | \n",
    "| 5 | 1 | 2 | 1 | $\\frac{1}{3}$ | \n",
    "| 8 | 2 | 2 | 3 | 1 |"
   ]
  },
  {
   "cell_type": "code",
   "execution_count": null,
   "metadata": {},
   "outputs": [],
   "source": []
  }
 ],
 "metadata": {
  "celltoolbar": "Slideshow",
  "kernelspec": {
   "display_name": "Python 3",
   "language": "python",
   "name": "python3"
  },
  "language_info": {
   "codemirror_mode": {
    "name": "ipython",
    "version": 3
   },
   "file_extension": ".py",
   "mimetype": "text/x-python",
   "name": "python",
   "nbconvert_exporter": "python",
   "pygments_lexer": "ipython3",
   "version": "3.6.5"
  }
 },
 "nbformat": 4,
 "nbformat_minor": 2
}
