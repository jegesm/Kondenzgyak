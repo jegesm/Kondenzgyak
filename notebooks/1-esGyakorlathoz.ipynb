{
 "cells": [
  {
   "cell_type": "code",
   "execution_count": 2,
   "metadata": {
    "nbpresent": {
     "id": "b7fecd81-a945-4ba1-8194-8d25f7f6e86e"
    },
    "slideshow": {
     "slide_type": "skip"
    }
   },
   "outputs": [],
   "source": [
    "from IPython.display import HTML"
   ]
  },
  {
   "cell_type": "markdown",
   "metadata": {
    "nbpresent": {
     "id": "f2b48962-9c34-437c-90a5-8618d902a4a5"
    },
    "slideshow": {
     "slide_type": "slide"
    }
   },
   "source": [
    "Információk a honlapomon:\n",
    "http://benedek.web.elte.hu/"
   ]
  },
  {
   "cell_type": "markdown",
   "metadata": {
    "nbpresent": {
     "id": "4ba300c7-c94a-496e-880a-79234107dc70"
    },
    "slideshow": {
     "slide_type": "slide"
    }
   },
   "source": [
    "Ajánlott irodalom:\n",
    "* Steven H. Simon: The Oxford Solid State Basics (2013)\n",
    "* Mihály László, Michael C. Martin: Solid State Physics Problems and Solutions (1996)\n",
    "* BME szilárdtestfizika gyakorlat jegyzet\n",
    "* Sólyom Jenő: A modern szilárdtestfizika alapjai I-II. \n",
    "* További videók: https://nptel.ac.in/courses/113102080/1\n"
   ]
  },
  {
   "cell_type": "markdown",
   "metadata": {
    "slideshow": {
     "slide_type": "slide"
    }
   },
   "source": [
    "### 2 db Zárthelyi dolgozat\n",
    "* őszi szünet előtt/után?\n",
    "* 15 hét, utolsó hét a szorgalmi időszakban?\n",
    "\n",
    "Egyeztessünk Doodle-n?"
   ]
  },
  {
   "cell_type": "markdown",
   "metadata": {
    "nbpresent": {
     "id": "5b529b09-ab80-4167-bad3-1011fa0b3f15"
    },
    "slideshow": {
     "slide_type": "slide"
    }
   },
   "source": [
    "## Kristályos szerkezet\n",
    "\n",
    "#### Az ideális kristály matematika definíciója\n",
    "Bravais-rács:\n",
    "\n",
    "$\\mathbf{R}_n=n_1\\mathbf{a}_1 + n_2\\mathbf{a}_2 + n_3\\mathbf{a}_3$, ahol $n_1$, $n_2$, $n_3 \\in \\mathbb{Z}$\n",
    "![](https://upload.wikimedia.org/wikipedia/commons/thumb/9/97/Equilateral_Triangle_Lattice.svg/220px-Equilateral_Triangle_Lattice.svg.png)\n"
   ]
  },
  {
   "cell_type": "markdown",
   "metadata": {
    "nbpresent": {
     "id": "b753118a-c182-4ec0-a3b4-44031ace46c5"
    },
    "slideshow": {
     "slide_type": "slide"
    }
   },
   "source": [
    "## Kristályos szerkezet\n",
    "\n",
    "Egyéb rács:\n",
    "\n",
    "![](https://d1yn1kh78jj1rr.cloudfront.net/image/preview/rnp9KOKvfjdviiioz/storyblocks-crystal-lattice-pattern-simple-illustration-of-crystal-lattice-vector-pattern-for-web_r_ZGR7wj1m_SB_PM.jpg)\n"
   ]
  },
  {
   "cell_type": "markdown",
   "metadata": {
    "nbpresent": {
     "id": "77c710be-4505-4652-a521-add631f78255"
    },
    "slideshow": {
     "slide_type": "slide"
    }
   },
   "source": [
    "## Kristályos szerkezet\n",
    "Rácsvektorok megválasztása történhet a legkisebb elemi cellát keresve vagy esetleg a szimmetria-transzformációk kihangsúlyozásával\n",
    "\n",
    "Az elemi rácsvektorok választása nem egyértelmű --> A nem egy síkban fekvő a1 a2 és a3 vektorokkal kifeszített paralelepipedon térfogata legyen a lehető legkisebb\n",
    "\n",
    "![](http://www.chm.bris.ac.uk/webprojects2003/cook/period4.gif)\n"
   ]
  },
  {
   "cell_type": "markdown",
   "metadata": {
    "nbpresent": {
     "id": "756a4d26-f455-4e3c-9570-ca38c18e49cc"
    }
   },
   "source": [
    "(primitív) **Elemi cella**: a Bravais-rácsokkal a tér kicsempézhető vele "
   ]
  },
  {
   "cell_type": "markdown",
   "metadata": {
    "nbpresent": {
     "id": "0e23b0ca-4a88-4365-b575-268f34f7a16b"
    },
    "slideshow": {
     "slide_type": "slide"
    }
   },
   "source": [
    "**Wigner-Seitz cella**: Egy szerkesztési módja az elemi cellának\n",
    "\n",
    "<img src=\"https://upload.wikimedia.org/wikipedia/commons/thumb/1/16/Wigner%E2%80%93Seitz_cell.svg/155px-Wigner%E2%80%93Seitz_cell.svg.png\" width=\"300\">"
   ]
  },
  {
   "cell_type": "markdown",
   "metadata": {
    "nbpresent": {
     "id": "a3414d86-ef90-44f0-a573-af147006bdef"
    },
    "slideshow": {
     "slide_type": "slide"
    }
   },
   "source": [
    "Egy kristály a diszkrét eltolásokon kívül más egybevágósági transzformációkra is invariáns lehet. Ilyen a forgatás, tükrözés, illetve ezek kombinációja, a forgatva tükrözés\n",
    "\n",
    "**BME szilárdtestfizika gyakorlat jegyzet**: 2. fejezet - *Kristályok forgatási és tükrözési szimmetriái*"
   ]
  },
  {
   "cell_type": "code",
   "execution_count": 4,
   "metadata": {
    "nbpresent": {
     "id": "9dad45f6-19af-4550-af99-4480aa94b963"
    },
    "slideshow": {
     "slide_type": "slide"
    }
   },
   "outputs": [
    {
     "data": {
      "text/html": [
       "<iframe width=\"560\" height=\"315\" src=\"https://www.youtube.com/embed/i9dqO7aTieE\" frameborder=\"0\" allow=\"autoplay; encrypted-media\" allowfullscreen></iframe>"
      ],
      "text/plain": [
       "<IPython.core.display.HTML object>"
      ]
     },
     "execution_count": 4,
     "metadata": {},
     "output_type": "execute_result"
    }
   ],
   "source": [
    "HTML('<iframe width=\"560\" height=\"315\" src=\"https://www.youtube.com/embed/i9dqO7aTieE\" frameborder=\"0\" allow=\"autoplay; encrypted-media\" allowfullscreen></iframe>')"
   ]
  },
  {
   "cell_type": "markdown",
   "metadata": {
    "nbpresent": {
     "id": "2abf7818-ed02-41eb-922b-a5d1cdbb5b69"
    },
    "slideshow": {
     "slide_type": "slide"
    }
   },
   "source": [
    "### Kagome rács\n",
    "\n",
    "![](https://mrsec.org/sites/default/files/43/highlights/SEED-Kagome%20Lattice1.jpg)"
   ]
  },
  {
   "cell_type": "markdown",
   "metadata": {
    "nbpresent": {
     "id": "be9d9455-7a2a-4787-b224-3674214c3ef6"
    },
    "slideshow": {
     "slide_type": "slide"
    }
   },
   "source": [
    "### Kagome rács\n",
    "\n",
    "![](abrak/kagome1.png)"
   ]
  },
  {
   "cell_type": "markdown",
   "metadata": {
    "nbpresent": {
     "id": "3d7634c1-2558-47ae-ab4b-6c3a704dcd4a"
    },
    "slideshow": {
     "slide_type": "slide"
    }
   },
   "source": [
    "### Kagome rács\n",
    "\n",
    "![](abrak/kagome2.png)"
   ]
  },
  {
   "cell_type": "markdown",
   "metadata": {
    "nbpresent": {
     "id": "1920102b-d92a-48c8-9e8d-3b2b9b8a84c5"
    },
    "slideshow": {
     "slide_type": "slide"
    }
   },
   "source": [
    "## Házi feladatok\n",
    "\n",
    "**Gy1.** Hány féle rács lehetséges 2D-ben? (Segítség: $a$, $b$ és $\\alpha$ cellaparaméterek)\n",
    "\n",
    "**Gy2.** Milyen a Bravais-rács és hány atom van az elemi cellában az ábrán látható Kagomé-rács, illetve gyémántszerkezet esetén?"
   ]
  },
  {
   "cell_type": "markdown",
   "metadata": {
    "nbpresent": {
     "id": "ae85e9a2-d7d0-4768-945d-548bcdc89362"
    },
    "slideshow": {
     "slide_type": "skip"
    }
   },
   "source": [
    "![](https://upload.wikimedia.org/wikipedia/commons/9/92/2d-bravais_labeled.svg)"
   ]
  }
 ],
 "metadata": {
  "celltoolbar": "Slideshow",
  "kernelspec": {
   "display_name": "Python 3",
   "language": "python",
   "name": "python3"
  },
  "language_info": {
   "codemirror_mode": {
    "name": "ipython",
    "version": 3
   },
   "file_extension": ".py",
   "mimetype": "text/x-python",
   "name": "python",
   "nbconvert_exporter": "python",
   "pygments_lexer": "ipython3",
   "version": "3.6.5"
  }
 },
 "nbformat": 4,
 "nbformat_minor": 2
}
