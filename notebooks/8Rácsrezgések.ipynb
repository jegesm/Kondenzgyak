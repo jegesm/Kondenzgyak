{
 "cells": [
  {
   "cell_type": "markdown",
   "metadata": {
    "slideshow": {
     "slide_type": "slide"
    }
   },
   "source": [
    "<img src=\"../images/8Rugosabra.png\" height=\"400px\">"
   ]
  },
  {
   "cell_type": "markdown",
   "metadata": {
    "slideshow": {
     "slide_type": "slide"
    }
   },
   "source": [
    "$V=\\frac{1}{2}D(|\\mathbf{d} + \\mathbf{u}| - |\\mathbf{d}|)^2 = \\frac{1}{2}D(\\sqrt{\\mathbf{d} + 2\\mathbf{du}  + \\mathbf{u}} - |\\mathbf{d}|)^2$\n",
    "\n",
    "* $D$ a rugóállandó\n",
    "* $\\mathbf{d}$ az egyik egyensúlyi pontból a másikba mutató vektor"
   ]
  },
  {
   "cell_type": "markdown",
   "metadata": {
    "slideshow": {
     "slide_type": "slide"
    }
   },
   "source": [
    "Sorfejtés $\\sqrt{1+x}\\approx 1+x/2$ alapján:\n",
    "\n",
    "$\\sqrt{\\mathbf{d} + 2\\mathbf{du}  + \\mathbf{u}^2} \\approx d + \\frac{\\mathbf{du}}{d} = $ \n",
    "$=d\\sqrt{\\mathbf{1} + (2\\mathbf{du}  + \\mathbf{u}^2)/d^2} \\approx d + \\frac{\\mathbf{du}}{d}$\n",
    "--> $V=\\frac{1}{2}D(\\frac{\\mathbf{du}}{d})^2$"
   ]
  },
  {
   "cell_type": "markdown",
   "metadata": {
    "slideshow": {
     "slide_type": "slide"
    }
   },
   "source": [
    "* indexekkel kiírva\n",
    "\n",
    "$V=\\frac{1}{2}D \\sum_{i,j}n_iu_in_ju_j$\n",
    "\n",
    "* A rugóerőt a potenciális energiából számolva\n",
    "$\\mathbf{F}=-\\frac{\\partial V}{\\partial \\mathbf{u}}$\n",
    "\n",
    "$F_l=-\\frac{\\partial V}{\\partial u_l} = -\\frac{1}{2}D \\sum_{i,j}n_in_j (\\delta_{il} u_j + \\delta_{jl} u_i) = -D\\sum_j n_in_ju_j$\n",
    "\n",
    "$\\mathbf{F} = -D (\\mathbf{n} \\circ \\mathbf{n}) \\mathbf{u}$"
   ]
  },
  {
   "cell_type": "markdown",
   "metadata": {
    "slideshow": {
     "slide_type": "slide"
    }
   },
   "source": [
    "### Előfeszített rugó esetén\n",
    "<img src=\"../images/8Rugosabraelof.png\" width=\"400px\">\n"
   ]
  },
  {
   "cell_type": "markdown",
   "metadata": {
    "slideshow": {
     "slide_type": "slide"
    }
   },
   "source": [
    "$\\mathbf{F}_d = \\frac{\\mathbf{d}+\\mathbf{u}}{|\\mathbf{d}+\\mathbf{ u}|} F_0$\n",
    "\n",
    "* $\\frac{\\mathbf{d}+\\mathbf{ u}}{|\\mathbf{d}+\\mathbf{ u}|}$ sorfejtése kis $\\mathbf{ u}$ körül \n",
    "\n",
    "$\\mathbf{n} + \\frac{1}{d}\\mathbf{ u} - \\frac{1}{d}\\mathbf{n}\\circ{}\\mathbf{n}\\mathbf{ u}$\n",
    "\n",
    "és így kapjuk\n",
    "\n",
    "$\\mathbf{F}_d = F_0\\mathbf{n} + F_0\\frac{1}{d}\\mathbf{ u} - F_0\\frac{1}{d}\\mathbf{n}\\circ{}\\mathbf{n}\\mathbf{ u}$\n"
   ]
  },
  {
   "cell_type": "markdown",
   "metadata": {
    "slideshow": {
     "slide_type": "slide"
    }
   },
   "source": [
    "sorfejtés lépései:\n",
    "\n",
    "$\\frac{\\mathbf{d}+\\mathbf{u}}{|\\mathbf{d}+\\mathbf{u}|} + \\mathbf{u} \\left ( \\frac{1}{|\\mathbf{d}+\\mathbf{u}|}-\\frac{(\\mathbf{d}+\\mathbf{u})*(\\mathbf{d}+\\mathbf{u})}{|\\mathbf{d}+\\mathbf{u}|^3} \\right) \\approx$\n",
    "\n",
    "$\\approx \\frac{\\mathbf{d}}{|\\mathbf{d}+\\mathbf{u}|} + \\frac{\\mathbf{u}}{|\\mathbf{d}+\\mathbf{u}|} - \\frac{\\mathbf{d}\\circ \\mathbf{d}}{|\\mathbf{d}+\\mathbf{u}|^3}\\mathbf{u} =  \\frac{1}{d}(\\mathbf{d}+\\mathbf{u} - (\\mathbf{d}\\circ \\mathbf{d})\\mathbf{u})$"
   ]
  },
  {
   "cell_type": "code",
   "execution_count": null,
   "metadata": {
    "slideshow": {
     "slide_type": "slide"
    }
   },
   "outputs": [],
   "source": []
  }
 ],
 "metadata": {
  "celltoolbar": "Slideshow",
  "kernelspec": {
   "display_name": "Python 3",
   "language": "python",
   "name": "python3"
  },
  "language_info": {
   "codemirror_mode": {
    "name": "ipython",
    "version": 3
   },
   "file_extension": ".py",
   "mimetype": "text/x-python",
   "name": "python",
   "nbconvert_exporter": "python",
   "pygments_lexer": "ipython3",
   "version": "3.7.3"
  },
  "latex_envs": {
   "LaTeX_envs_menu_present": true,
   "autoclose": false,
   "autocomplete": true,
   "bibliofile": "biblio.bib",
   "cite_by": "apalike",
   "current_citInitial": 1,
   "eqLabelWithNumbers": false,
   "eqNumInitial": 1,
   "hotkeys": {
    "equation": "Ctrl-E",
    "itemize": "Ctrl-I"
   },
   "labels_anchors": false,
   "latex_user_defs": false,
   "report_style_numbering": false,
   "user_envs_cfg": false
  }
 },
 "nbformat": 4,
 "nbformat_minor": 2
}
