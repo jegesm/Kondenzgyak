{
 "cells": [
  {
   "cell_type": "markdown",
   "metadata": {},
   "source": [
    "$\\newcommand{\\mul}[1]{\\mathbf{\\underline{#1}}}$"
   ]
  },
  {
   "cell_type": "markdown",
   "metadata": {
    "slideshow": {
     "slide_type": "skip"
    }
   },
   "source": [
    "A potenciált az $\\mul{u}(m,\\mu)$ elmozdulások hatványai szerint sorba fejtjük ($M$ számú atom van az elemi cellában):\n",
    "\n",
    "$$U(\\{\\mul{r}(m,\\mu)\\}) = U_0 + \\sum_{\\mu}^{M}\\sum_{\\alpha}^{3} \\Phi_{\\alpha}^{\\mu}u_\\alpha(m,\\mu) + \\frac{1}{2}\\sum_{\\mu,\\nu}^{M,M}\\sum_{\\alpha,\\beta}^{3,3}\\Phi_{\\alpha,\\beta}^{\\mu,\\nu}u_\\alpha(m,\\mu)u_\\beta(n,\\nu)$$\n",
    "\n",
    "* $U_0$ csak a teljes energia szempontjából érdekes\n",
    "* az első hatvány az egyensúlyi helyzetben eltűnik"
   ]
  },
  {
   "cell_type": "markdown",
   "metadata": {
    "slideshow": {
     "slide_type": "skip"
    }
   },
   "source": [
    "Általános potenciál helyett harmonikus közelítés, ahol a az erő nagysága csak az atomok távolságától függ"
   ]
  },
  {
   "cell_type": "markdown",
   "metadata": {
    "slideshow": {
     "slide_type": "skip"
    }
   },
   "source": [
    "$$\\mul{F}(m,\\mu) = -\\frac{\\partial\\mul{U}}{\\mul{u}(m,\\mu)} -> F_\\alpha(m,\\mu) = -\\sum_{n,\\nu,\\beta}\\Phi_{\\alpha,\\beta}^{\\mu,\\nu}u_\\beta(n,\\nu)$$"
   ]
  },
  {
   "cell_type": "markdown",
   "metadata": {
    "slideshow": {
     "slide_type": "skip"
    }
   },
   "source": [
    "\n",
    "Együtthatók közötti összefüggésekkel csökken az illesztendő paraméterek száma\n",
    "\n",
    "* $\\Phi$ szimmetrikus\n",
    "* a kristály egy helyben marad $\\sum_{n,\\nu}\\Phi_{\\alpha,\\beta}^{\\mu,\\nu}(m,n)=0$"
   ]
  },
  {
   "cell_type": "markdown",
   "metadata": {
    "slideshow": {
     "slide_type": "skip"
    }
   },
   "source": [
    "$\\Phi_{\\alpha,\\beta}^{\\mu,\\nu}(m,n)= \\Phi_{\\alpha,\\beta}^{\\mu,\\nu}(m-n)$"
   ]
  },
  {
   "cell_type": "markdown",
   "metadata": {
    "slideshow": {
     "slide_type": "skip"
    }
   },
   "source": [
    "Itt is kihasználjuk a kristály rácsperiodicitását ezért csak adott cellán belüli atomokat veszünk periodikus határfeltétellel."
   ]
  },
  {
   "cell_type": "markdown",
   "metadata": {
    "slideshow": {
     "slide_type": "slide"
    }
   },
   "source": [
    "### Rácsrezgések\n",
    "\n",
    "* Born-Oppenheimer közelítés: az elektronfelhő azonnal alkalmazkodik az atomok új helyzetéhez, mivel több nagyságrenddel mozgékonyabbak"
   ]
  },
  {
   "cell_type": "markdown",
   "metadata": {
    "slideshow": {
     "slide_type": "slide"
    }
   },
   "source": [
    "* Távol az olvadásponttól az $m$-ik atom egyensúlyi helyét leíró $R_m$-ből való $u_m$ elmozdulás nagysága elhanyagolható a kristályra jellemző $a$ rácsállandóhoz képest: $|u_m| \\ll a$ . Ilyenkor a potenciál egy parbolával közelíthető (harmonikus közelítés)\n",
    "\n",
    "### BME Szilárdtestfizika gyakorlat jegyzet 5. fejezet\n",
    "\n",
    "### Sólyom I. 11. fejezet"
   ]
  },
  {
   "cell_type": "markdown",
   "metadata": {
    "slideshow": {
     "slide_type": "slide"
    }
   },
   "source": [
    "$$E=T_{kin} + U$$\n",
    "$$T_{kin} = \\sum_{n,\\alpha} \\frac{p^2(n,\\alpha)}{2M_\\alpha}$$\n",
    "\n",
    "az atomok kinetikus energiája, ahol $n$ az $R_n$ rácsvektor által kijelölt elemi cellát, $\\alpha$ pedig egy elemi\n",
    "cellán belül az atomokat ($\\mul{r}_\\alpha$ adja meg az elemi cellán belüli elhelyezkedését ennek a típusú atomnak)\n",
    "indexeli. $M_{n\\alpha}$ az $R_n$ cellában levő, $\\alpha$ típusú atom tömege. "
   ]
  },
  {
   "cell_type": "markdown",
   "metadata": {
    "slideshow": {
     "slide_type": "slide"
    }
   },
   "source": [
    "A kölcsönhatás\n",
    "\n",
    "$$U = \\frac{1}{2}\\sum_{nn',\\alpha \\alpha'} \\Phi_{\\alpha \\alpha'}(\\mathbf{r}_{n\\alpha}(t)-\\mathbf{r}_{n'\\alpha'}(t))$$"
   ]
  },
  {
   "cell_type": "markdown",
   "metadata": {
    "slideshow": {
     "slide_type": "slide"
    }
   },
   "source": [
    "$\\mul{r}_{n\\alpha}(t) = \\mul{R}_n + \\mul{\\tau}_\\alpha + \\mul{u}_\\alpha(n , t)$\n",
    "ahol $\\mul{u}_\\alpha(n, t)$ az $\\mul{R}_n$ rácsvektorral jellemzett elemi cella $\\alpha$-edik atomjának az egyensúlyi helytől mért pillanatnyi elmozdulása."
   ]
  },
  {
   "cell_type": "markdown",
   "metadata": {
    "slideshow": {
     "slide_type": "slide"
    }
   },
   "source": [
    "Általában a kölcsönhatás felírható párpotenciálok összegeként, vagyis a kölcsönhatás rugókkal összekötött pontoknak megfelelően az egymástól való távolságoktól függ:\n",
    "$U = \\frac{1}{2}\\sum_{nn',\\alpha \\alpha'} \\Phi_{\\alpha \\alpha'}(\\mathbf{R}_n+\\mathbf{\\tau}_\\alpha + \\mul{u}_\\alpha(n , t) - \\mul{R}_{n'} - \\mul{\\tau}_{\\alpha'} - \\mul{u}_{\\alpha'}(n' , t))$"
   ]
  },
  {
   "cell_type": "markdown",
   "metadata": {
    "slideshow": {
     "slide_type": "slide"
    }
   },
   "source": [
    "* Harmonikus közelítésben: az atomok helyzetének egyensúlyitól való eltérése $\\mul{u}_\\alpha(n , t)$ kicsi\n",
    "* A kölcsönhatási energiát másodrendig fejtjük sorba (az egyensúlyból kimozdított atomokra ható erők eredője lineárisan függ az $\\mul{u}_\\alpha(n , t)$ mennyiségektől). "
   ]
  },
  {
   "cell_type": "markdown",
   "metadata": {
    "slideshow": {
     "slide_type": "slide"
    }
   },
   "source": [
    "$ E(\\{p_{jn\\alpha}\\},\\{u_{j\\alpha}(n)\\}) = \\sum_{n,j,\\alpha} \\frac{p^2_{jn\\alpha}}{2M_{n\\alpha}} + U_0 +$$  $$\\frac{1}\n",
    "{2}\\sum_{jj'nn'\\alpha \\alpha'} u_{j\\alpha}(n,t)D'_{jj'\\alpha \\alpha'}(\\mul{R}_n-\\mul{R}_{n'})u_{j'\\alpha'}(n',t)$\n",
    "\n",
    "a $\\mul{D}'$ mátrix a párpotenciál második deriváltjait tartalmazza. Ha az elemi cella $I$ különböző atomot tartalmaz egy $d$ dimenziós kristályban, akkor ez a mátrix $(Id) × (Id)$-s méretű minden $\\Delta R$ rácsvektorra."
   ]
  },
  {
   "cell_type": "markdown",
   "metadata": {
    "slideshow": {
     "slide_type": "slide"
    }
   },
   "source": [
    "A kanonikus egyenletek:\n",
    "\n",
    "$$ \\dot{u}_{j\\alpha}(n)=\\frac{p_{jn\\alpha}}{M_{n\\alpha}}$$\n",
    "$$\\dot{p}_{jn\\alpha} = - \\sum_{j'n'\\alpha'} D'_{jj'\\alpha \\alpha'}(\\mul{R}_n-\\mul{R}_{n'})u_{j'\\alpha'}(n')$$"
   ]
  },
  {
   "cell_type": "markdown",
   "metadata": {
    "slideshow": {
     "slide_type": "slide"
    }
   },
   "source": [
    "melyek alapján a mozgásegyenletek:\n",
    "$$M_{n\\alpha}\\ddot{u}_{\\alpha}(n) = - \\sum_{n'\\alpha'} \\mul{D}'_{\\alpha \\alpha'}(\\mul{R}_n-\\mul{R}_{n'})u_{\\alpha'}(n')$$\n",
    "Ez az $N Id$ db egyenlet bonyolult módon csatolódik egymáshoz ($N$ az elemi cellák száma). Lineáris differenciál egyenletrendszerről lévén szó feltehetjük, hogy a mozgásegyenletek megoldása felírható síkhullám alakban a Brillouin-zóna $\\mul{q}$ hullámszámaival:\n",
    "$$u_{\\alpha}(n,t) = u_{\\alpha}(\\mul{q})e^{i(\\mul{qR}_n-\\omega(\\mul{q})t)}$$\n",
    "Ezzel a lineáris differenciál egyenletrendszer helyett lineáris egyenletrendszerre jutunk. Ha a rendszer eltolási invariáns"
   ]
  },
  {
   "cell_type": "markdown",
   "metadata": {
    "slideshow": {
     "slide_type": "slide"
    }
   },
   "source": [
    "$M_{n\\alpha} = M_{\\alpha}$ , akkor\n",
    "a mozgásegyenletek a $\\mul{q}$ hullámszámok szerint szétcsatolódnak. Azért elegendő az első Brillouin-zóna hullámszámaival jellemezni a rácsrezgéseket, mert egy $\\mul{G}$ reciprokrács-vektorral a $\\mul{q} + \\mul{G}$ hullámszámú\n",
    "hullám az atomok helyén ugyanazt az értéket adja, mint a $\\mul{q}$ hullámszámú hullám"
   ]
  },
  {
   "cell_type": "markdown",
   "metadata": {
    "slideshow": {
     "slide_type": "slide"
    }
   },
   "source": [
    "$-M_{\\alpha} \\omega^2(\\mul{q})u_{j\\alpha}(\\mul{q}) = - \\sum_{j'\\alpha'} D'_{jj'\\alpha \\alpha'}(\\mul{q}) u_{j'\\alpha'}(\\mul{q})$\n",
    "Legyen $v_{j\\alpha}(\\mul{q})=\\sqrt{M_\\alpha}u_{j\\alpha}(\\mul{q})$ és definiáljuk a $D_{jj'\\alpha \\alpha'}(\\mul{q})=D'_{jj'\\alpha \\alpha'}(\\mul{q})/\\sqrt{M_\\alpha M_{\\alpha'}}$ dinamikus mátrixot!\n",
    "Utóbbiról belátható, hogy önadjungált és pozitív definit. "
   ]
  },
  {
   "cell_type": "markdown",
   "metadata": {
    "slideshow": {
     "slide_type": "slide"
    }
   },
   "source": [
    "A hullámszámtérbeli mozgásegyenletek ekkor\n",
    "$$\\omega^2(\\mul{q})v_{j\\alpha}(\\mul{q}) = \\sum_{j'\\alpha'} D_{jj'\\alpha \\alpha'}(\\mul{q}) v_{j'\\alpha'}(\\mul{q})$$ \n",
    "szerint írhatók, vagyis minden q hullámszámra egy megfelelő sajátérték egyenletet megoldva megkaphatjuk az $\\omega(\\mul{q})$ diszperziós relációt. "
   ]
  },
  {
   "cell_type": "markdown",
   "metadata": {
    "slideshow": {
     "slide_type": "slide"
    }
   },
   "source": [
    "### Egyatomos lánc rezgése\n",
    "\n",
    "* Csak az elsőszomszédok között van számottevő kölcsönhatás ( $K=\\Phi(n,n\\pm 1)$ )\n",
    "\n",
    "$U_{harm} = \\frac{1}{2}K\\sum_n [ u_n - u_{n+1} ]^2$\n",
    "\n",
    "* Az atomra ható erő deriváltja ennek deriváltja\n",
    "\n",
    "$M\\ddot{u}_n = -\\frac{\\partial U_{harm}}{\\partial u_n} = -K[2u_n - u_{n-1} - u_{n+1}]$\n",
    "\n"
   ]
  },
  {
   "cell_type": "markdown",
   "metadata": {
    "slideshow": {
     "slide_type": "skip"
    }
   },
   "source": [
    "$$u_n(t) = \\frac{1}{\\sqrt{N}}\\sum_q \\frac{1}{2\\pi}\\int_{-\\infty}^{\\infty}\\mathrm{d}\\omega u(q,\\omega)e^{i(qna-\\omega t)}$$\n",
    "* A periodikus határfeltétel (Born-Kármán) $ u_{N+1} = u_1$ miatt: \n",
    "$$ e^{iqNa} = 1 --> q=j\\frac{2\\pi}{Na}$$"
   ]
  },
  {
   "cell_type": "markdown",
   "metadata": {
    "slideshow": {
     "slide_type": "slide"
    }
   },
   "source": [
    "$$u_n = u(q,\\omega)e^{i(qna-\\omega t)}$$\n",
    "* A periodikus határfeltétel (Born-Kármán) $ u_{N+1} = u_1$ miatt: \n",
    "$$ e^{iqNa} = 1 --> q=j\\frac{2\\pi}{Na}$$\n",
    "\n",
    "* Reciprokrács vektor: $b=2\\pi/a$ és $-\\pi/a < q < \\pi/a$"
   ]
  },
  {
   "cell_type": "markdown",
   "metadata": {
    "slideshow": {
     "slide_type": "slide"
    }
   },
   "source": [
    "\n",
    "\n",
    "Harmonikus közelítésben a különböző hullámszámú hullámok nem keverednek.\n",
    "\n",
    "$$M\\omega^2 u(q,\\omega)= K[2-e^{-iqa}-e^{iqa}]u(q,\\omega)$$"
   ]
  },
  {
   "cell_type": "markdown",
   "metadata": {
    "slideshow": {
     "slide_type": "slide"
    }
   },
   "source": [
    "$$\\omega(q) = \\sqrt{\\frac{2K(1-\\cos{qa})}{M}}=2 \\left( \\frac{K}{M} \\right)^{1/2} \\left| \\sin{\\frac{qa}{2}}\\right|$$"
   ]
  },
  {
   "cell_type": "code",
   "execution_count": 3,
   "metadata": {
    "slideshow": {
     "slide_type": "skip"
    }
   },
   "outputs": [
    {
     "name": "stdout",
     "output_type": "stream",
     "text": [
      "Populating the interactive namespace from numpy and matplotlib\n"
     ]
    }
   ],
   "source": [
    "%pylab inline\n",
    "import matplotlib.pyplot as plt"
   ]
  },
  {
   "cell_type": "code",
   "execution_count": 11,
   "metadata": {
    "slideshow": {
     "slide_type": "slide"
    }
   },
   "outputs": [
    {
     "data": {
      "image/png": "[encoded data removed]",
      "text/plain": [
       "<Figure size 432x288 with 1 Axes>"
      ]
     },
     "metadata": {},
     "output_type": "display_data"
    }
   ],
   "source": [
    "x = linspace(-pi/2,pi/2,100)\n",
    "plt.xticks([-pi/2,pi/2], [\"$-\\pi/a$\",\"$\\pi/a$\"])\n",
    "plot(x, abs(sin(x)))\n",
    "yticks([])\n",
    "xlabel(\"q\")\n",
    "ylabel(\"$\\omega(q)$\");"
   ]
  },
  {
   "cell_type": "markdown",
   "metadata": {
    "slideshow": {
     "slide_type": "slide"
    }
   },
   "source": [
    "* Távolabbi szomszédok kölcsönhatása esetén: \n",
    "\n",
    "$$M\\omega^2 u(q,\\omega)= K[2-e^{-iqpa}-e^{iqpa}]u(q,\\omega)$$\n",
    "\n",
    "$\\cos(qpa)$ tag jelenik meg, vagyis továbbra is lineárisan indula  görbe."
   ]
  },
  {
   "cell_type": "markdown",
   "metadata": {
    "slideshow": {
     "slide_type": "skip"
    }
   },
   "source": [
    "### Két atomos lánc rezgései\n",
    "\n"
   ]
  }
 ],
 "metadata": {
  "celltoolbar": "Slideshow",
  "kernelspec": {
   "display_name": "Python 3",
   "language": "python",
   "name": "python3"
  },
  "language_info": {
   "codemirror_mode": {
    "name": "ipython",
    "version": 3
   },
   "file_extension": ".py",
   "mimetype": "text/x-python",
   "name": "python",
   "nbconvert_exporter": "python",
   "pygments_lexer": "ipython3",
   "version": "3.7.3"
  },
  "latex_envs": {
   "LaTeX_envs_menu_present": true,
   "autoclose": false,
   "autocomplete": true,
   "bibliofile": "biblio.bib",
   "cite_by": "apalike",
   "current_citInitial": 1,
   "eqLabelWithNumbers": false,
   "eqNumInitial": 1,
   "hotkeys": {
    "equation": "Ctrl-E",
    "itemize": "Ctrl-I"
   },
   "labels_anchors": false,
   "latex_user_defs": false,
   "report_style_numbering": false,
   "user_envs_cfg": false
  }
 },
 "nbformat": 4,
 "nbformat_minor": 2
}
