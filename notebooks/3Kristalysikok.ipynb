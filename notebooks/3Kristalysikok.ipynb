{
 "cells": [
  {
   "cell_type": "markdown",
   "metadata": {
    "slideshow": {
     "slide_type": "slide"
    }
   },
   "source": [
    "### Reciprokrács (ismétlés)\n",
    "\n",
    "A kristály jellemző $f(r)$ fizikai mennyiségek általában rácsperiódikusak:\n",
    "\n",
    "$$f(\\mathbf{r}) = f(\\mathbf{r}+\\mathbf{R}_n),$$\n",
    "ahol $\\mathbf{R}_n=n_1\\mathbf{a}_1 + n_2\\mathbf{a}_2 + n_3\\mathbf{a}_3, \\hspace{5mm}$ és $\\hspace{5mm}n_1$, $n_2$, $n_3 \\in \\mathbb{Z}$\n",
    "\n",
    "\n",
    "A Fourier transzformált ekkor\n",
    "$$F(\\mathbf{k}) = \\int \\mathbf{d}\\mathbf{r}e^{-i\\mathbf{k}\\mathbf{r}} f(\\mathbf{r})= \\int \\mathbf{d}\\mathbf{r}e^{-i\\mathbf{k}(\\mathbf{r}+\\mathbf{R}_n)}f(\\mathbf{r}+\\mathbf{R}_n) = e^{-i\\mathbf{k}\\mathbf{R}_n}F(\\mathbf{k})$$\n",
    "\n",
    "$$F(\\mathbf{k}) (1-e^{-i\\mathbf{k}\\mathbf{R}_n}) = 0 \\hspace{10mm}  e^{-i\\mathbf{k}\\mathbf{R}_n}=1 $$ \n",
    "$$ \\mathbf{k}\\mathbf{R}_n = 2\\pi M$$\n",
    "$k$ hullámszám egy reciprokrács-vektor"
   ]
  },
  {
   "cell_type": "markdown",
   "metadata": {
    "slideshow": {
     "slide_type": "slide"
    }
   },
   "source": [
    "### Reciprokrács (ismétlés)\n",
    "\n",
    "$BA = AB = 2\\pi I$ \n",
    "\n",
    "\n",
    "$\\begin{align} B =  \\begin{pmatrix} b_{1x} & b_{1y}& b_{1z}\\\\b_{2x} & b_{2y} & b_{2z} \\\\ b_{3x} & b_{3y} & b_{3z} \\end{pmatrix}\\end{align}$ $\\hspace{10mm}$ $\\begin{align} A =  \\begin{pmatrix} a_{1x} & a_{2x}& a_{3x}\\\\a_{1y} & a_{2y} & a_{3y} \\\\ a_{1z} & a_{2z} & a_{3z} \\end{pmatrix}\\end{align}$ \n",
    "\n",
    "$\\mathbf{a}_i \\mathbf{b}_i = 2\\pi\\delta_ij$\n",
    "\n",
    "Egy reciprok rács. $\\mathbf{G}=h_1\\mathbf{b}_1 + h_2\\mathbf{b}_2 + h_3\\mathbf{b}_3$, ahol $h_1$, $h_2$, $h_3 \\in \\mathbb{Z}$\n",
    "\n",
    "$$\\mathbf{b}_1=2\\pi\\frac{\\mathbf{a}_2\\times\\mathbf{a}_3}{\\mathbf{a}_1(\\mathbf{a}_2\\times\\mathbf{a}_3)}$$"
   ]
  },
  {
   "cell_type": "markdown",
   "metadata": {
    "slideshow": {
     "slide_type": "slide"
    }
   },
   "source": [
    "## Kristálytani síkok\n",
    "<img src=\"../images/crystalplane-dot.svg.png\">"
   ]
  },
  {
   "cell_type": "markdown",
   "metadata": {
    "slideshow": {
     "slide_type": "slide"
    }
   },
   "source": [
    "## Kristálytani síkok\n",
    "<img src=\"../images/CaF2.jpg\" width=\"300px\">"
   ]
  },
  {
   "cell_type": "markdown",
   "metadata": {
    "slideshow": {
     "slide_type": "slide"
    }
   },
   "source": [
    "### Kristálysík normálisa\n",
    "felírható a reciprokrács vektorokkal\n",
    "$$g_{\\mathrm{hkl}} = \\mathrm{h}\\mathbf{b}_1 + \\mathrm{k}\\mathbf{b}_2 + \\mathrm{l}\\mathbf{b}_3$$\n",
    "\n",
    "### Kristálysíkok távolsága\n",
    "vegyük bármelyik elemi rácsvektort és annak kristálysík normálisára vett vetülete adja meg a (h,k,l) Miller-indexű kristálysíkok közötti távolságot\n",
    "\n",
    "$$d_{\\mathrm{hkl}} = \\frac{\\mathbf{a}_1}{\\mathrm{h}}\\cdot\\mathbf{n}=\\frac{\\mathbf{a}_1}{\\mathrm{h}}\\frac{g_{\\mathrm{hkl}}}{|g_{\\mathrm{hkl}}|}$$"
   ]
  },
  {
   "cell_type": "markdown",
   "metadata": {
    "slideshow": {
     "slide_type": "slide"
    }
   },
   "source": [
    "<img src=\"../images/index-miller-ok1.jpg\">"
   ]
  },
  {
   "cell_type": "markdown",
   "metadata": {
    "slideshow": {
     "slide_type": "slide"
    }
   },
   "source": [
    "<img src=\"../images/crystalplane-111.png\" width=\"300px\">"
   ]
  },
  {
   "cell_type": "markdown",
   "metadata": {
    "slideshow": {
     "slide_type": "fragment"
    }
   },
   "source": [
    "|  ---              | x | y | z |\n",
    "| ---------------|:---:|---:|---|\n",
    "| Tengelymetszet| 1 | 1 | 1 |\n",
    "| Reciprok| 1 | 1 | 1 |\n",
    "| Törtek eltüntetése| 1 | 1 | 1 |\n",
    "| Miller-index | (1 1 1) |"
   ]
  },
  {
   "cell_type": "markdown",
   "metadata": {
    "slideshow": {
     "slide_type": "slide"
    }
   },
   "source": [
    "<img src=\"../images/crystalplane-012a.png\" width=\"300px\">"
   ]
  },
  {
   "cell_type": "markdown",
   "metadata": {
    "slideshow": {
     "slide_type": "slide"
    }
   },
   "source": [
    "## El kell tolnunk, ahhoz, hogy lássuk hol metszi az Y tengelyt\n",
    "\n",
    "<img src=\"../images/crystalplane-012b.png\" width=\"300px\">"
   ]
  },
  {
   "cell_type": "markdown",
   "metadata": {
    "slideshow": {
     "slide_type": "fragment"
    }
   },
   "source": [
    "|  ---              | x | y | z |\n",
    "| ---------------|:---:|---:|---|\n",
    "| Tengelymetszet| $\\infty$ | 1 | $\\frac{1}{2}$ |\n",
    "| Reciprok| 0| 1 | 2 |\n",
    "| Törtek eltüntetése| 0| 1 | 2 |\n",
    "| Miller-index | (0 1 2) |"
   ]
  },
  {
   "cell_type": "markdown",
   "metadata": {
    "slideshow": {
     "slide_type": "slide"
    }
   },
   "source": [
    "<img src=\"../images/crystalplane-110.png\" width=\"300px\">"
   ]
  },
  {
   "cell_type": "markdown",
   "metadata": {
    "slideshow": {
     "slide_type": "fragment"
    }
   },
   "source": [
    "|  ---              | x | y | z |\n",
    "| ---------------|:---:|---:|---|\n",
    "| Tengelymetszet| 1 | 1 | $\\infty$ |\n",
    "| Reciprok| 1 | 1 | 0 |\n",
    "| Törtek eltüntetése| 1 | 1 | 0 |\n",
    "| Miller-index | (1 1 0) |"
   ]
  },
  {
   "cell_type": "markdown",
   "metadata": {
    "slideshow": {
     "slide_type": "slide"
    }
   },
   "source": [
    "<img src=\"../images/crystalplane-112.png\" width=\"300px\">"
   ]
  },
  {
   "cell_type": "markdown",
   "metadata": {
    "slideshow": {
     "slide_type": "fragment"
    }
   },
   "source": [
    "## Ezt is el kell tolnunk\n",
    "\n",
    "|  ---              | x | y | z |\n",
    "| ---------------|:---:|---:|---|\n",
    "| Tengelymetszet| $\\frac{1}{2}$ | $\\frac{1}{2}$ | 1 |\n",
    "| Reciprok| 2 | 2 | 1 |\n",
    "| Törtek eltüntetése| 2 | 2 | 1 |\n",
    "| Miller-index | (2 2 1) |"
   ]
  },
  {
   "cell_type": "markdown",
   "metadata": {
    "slideshow": {
     "slide_type": "slide"
    }
   },
   "source": [
    "<img src=\"../images/crystalplane-1042.png\" width=\"300px\">"
   ]
  },
  {
   "cell_type": "markdown",
   "metadata": {
    "slideshow": {
     "slide_type": "fragment"
    }
   },
   "source": [
    "|  ---              | x | y | z |\n",
    "| ---------------|:---:|---:|---|\n",
    "| Tengelymetszet| $\\frac{2}{5}$ | $\\frac{1}{2}$ | 1 |\n",
    "| Reciprok| $\\frac{5}{2}$ | 2 | 1 |\n",
    "| Törtek eltüntetése| 10 | 4 | 2 |\n",
    "| Miller-index | (10 4 2) |"
   ]
  },
  {
   "cell_type": "code",
   "execution_count": null,
   "metadata": {
    "slideshow": {
     "slide_type": "skip"
    }
   },
   "outputs": [],
   "source": []
  }
 ],
 "metadata": {
  "celltoolbar": "Slideshow",
  "kernelspec": {
   "display_name": "Python 3",
   "language": "python",
   "name": "python3"
  },
  "language_info": {
   "codemirror_mode": {
    "name": "ipython",
    "version": 3
   },
   "file_extension": ".py",
   "mimetype": "text/x-python",
   "name": "python",
   "nbconvert_exporter": "python",
   "pygments_lexer": "ipython3",
   "version": "3.6.5"
  }
 },
 "nbformat": 4,
 "nbformat_minor": 2
}
