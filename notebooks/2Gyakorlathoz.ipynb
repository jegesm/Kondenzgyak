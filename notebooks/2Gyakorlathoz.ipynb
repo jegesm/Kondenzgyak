{
 "cells": [
  {
   "cell_type": "code",
   "execution_count": 4,
   "metadata": {
    "nbpresent": {
     "id": "b7fecd81-a945-4ba1-8194-8d25f7f6e86e"
    },
    "slideshow": {
     "slide_type": "skip"
    }
   },
   "outputs": [],
   "source": [
    "%pylab inline\n",
    "from IPython.display import HTML"
   ]
  },
  {
   "cell_type": "markdown",
   "metadata": {
    "nbpresent": {
     "id": "f2b48962-9c34-437c-90a5-8618d902a4a5"
    },
    "slideshow": {
     "slide_type": "slide"
    }
   },
   "source": [
    "Információk a honlapomon:\n",
    "http://benedek.web.elte.hu/"
   ]
  },
  {
   "cell_type": "markdown",
   "metadata": {
    "nbpresent": {
     "id": "4ba300c7-c94a-496e-880a-79234107dc70"
    },
    "slideshow": {
     "slide_type": "slide"
    }
   },
   "source": [
    "Ajánlott irodalom:\n",
    "* Steven H. Simon: The Oxford Solid State Basics (2013)\n",
    "* Mihály László, Michael C. Martin: Solid State Physics Problems and Solutions (1996)\n",
    "* BME szilárdtestfizika gyakorlat jegyzet\n",
    "* Sólyom Jenő: A modern szilárdtestfizika alapjai I-II. \n",
    "* További videók: https://nptel.ac.in/courses/113102080/1\n"
   ]
  },
  {
   "cell_type": "code",
   "execution_count": null,
   "metadata": {
    "nbpresent": {
     "id": "254931fc-1b0c-4202-aeac-ecefb60cf5c4"
    },
    "slideshow": {
     "slide_type": "skip"
    }
   },
   "outputs": [],
   "source": []
  },
  {
   "cell_type": "markdown",
   "metadata": {
    "nbpresent": {
     "id": "5b529b09-ab80-4167-bad3-1011fa0b3f15"
    },
    "slideshow": {
     "slide_type": "slide"
    }
   },
   "source": [
    "## Kristályos szerkezet\n",
    "\n",
    "#### Az ideális kristály matematika definíciója\n",
    "Bravais-rács: $\\mathbf{R}_n=n_1\\mathbf{a}_1 + n_2\\mathbf{a}_2 + n_3\\mathbf{a}_3$, ahol $n_1$, $n_2$, $n_3 \\in \\mathbb{Z}$\n",
    "![](https://upload.wikimedia.org/wikipedia/commons/thumb/9/97/Equilateral_Triangle_Lattice.svg/220px-Equilateral_Triangle_Lattice.svg.png)\n"
   ]
  },
  {
   "cell_type": "markdown",
   "metadata": {
    "nbpresent": {
     "id": "77c710be-4505-4652-a521-add631f78255"
    },
    "slideshow": {
     "slide_type": "slide"
    }
   },
   "source": [
    "## Kristályos szerkezet\n",
    "#### rácsvektorok\n",
    "Rácsvektorok megválasztása történhet a legkisebb elemi cellát keresve vagy esetleg a szimmetria-transzformációk kihangsúlyozásával\n",
    "\n",
    "Az elemi rácsvektorok választása nem egyértelmű --> A nem egy síkban fekvő a1 a2 és a3 vektorokkal kifeszített paralelepipedon térfogata legyen a lehető legkisebb\n",
    "\n",
    "![](http://www.chm.bris.ac.uk/webprojects2003/cook/period4.gif)\n"
   ]
  },
  {
   "cell_type": "markdown",
   "metadata": {
    "nbpresent": {
     "id": "756a4d26-f455-4e3c-9570-ca38c18e49cc"
    }
   },
   "source": [
    "(primitív) **Elemi cella**: a Bravais-rácsokkal a tér kicsempézhető vele "
   ]
  },
  {
   "cell_type": "markdown",
   "metadata": {
    "nbpresent": {
     "id": "0e23b0ca-4a88-4365-b575-268f34f7a16b"
    },
    "slideshow": {
     "slide_type": "slide"
    }
   },
   "source": [
    "**Wigner-Seitz cella**: Egy szerkesztési módja az elemi cellának\n",
    "\n",
    "<img src=\"https://upload.wikimedia.org/wikipedia/commons/thumb/1/16/Wigner%E2%80%93Seitz_cell.svg/155px-Wigner%E2%80%93Seitz_cell.svg.png\" width=\"300\">"
   ]
  },
  {
   "cell_type": "markdown",
   "metadata": {
    "nbpresent": {
     "id": "85fd51a3-f5a5-4294-a04e-8ebe78805114"
    },
    "slideshow": {
     "slide_type": "slide"
    }
   },
   "source": [
    "## Reciprok rács\n",
    "\n",
    "Feltétel: $\\mathbf{a}_i \\mathbf{b}_i = 2\\pi\\delta_ij$\n",
    "\n",
    "Egy reciprok rács. $\\mathbf{G}_n=n_1\\mathbf{b}_1 + n_2\\mathbf{b}_2 + n_3\\mathbf{b}_3$, ahol $n_1$, $n_2$, $n_3 \\in \\mathbb{Z}$\n",
    "\n",
    "$$\\mathbf{b}_1=2\\pi\\frac{\\mathbf{a}_2\\times\\mathbf{a}_3}{\\mathbf{a}_1(\\mathbf{a}_2\\times\\mathbf{a}_3)}$$\n"
   ]
  },
  {
   "cell_type": "markdown",
   "metadata": {
    "slideshow": {
     "slide_type": "slide"
    }
   },
   "source": [
    "**Gy.1** Számoljuk ki az FCC rács reciprok vektorait!\n",
    "\n",
    "![](https://www.periodni.com/gallery/face-centered_cubic_lattice.png)"
   ]
  },
  {
   "cell_type": "code",
   "execution_count": 10,
   "metadata": {
    "slideshow": {
     "slide_type": "skip"
    }
   },
   "outputs": [],
   "source": [
    "from numpy import *\n",
    "import scipy.linalg as lin"
   ]
  },
  {
   "cell_type": "code",
   "execution_count": 12,
   "metadata": {
    "collapsed": true,
    "slideshow": {
     "slide_type": "slide"
    }
   },
   "outputs": [
    {
     "data": {
      "text/plain": [
       "array([[ 1.,  1., -1.],\n",
       "       [ 1., -1.,  1.],\n",
       "       [-1.,  1.,  1.]])"
      ]
     },
     "execution_count": 12,
     "metadata": {},
     "output_type": "execute_result"
    }
   ],
   "source": [
    "A = array([[1, 1, 0], [1, 0, 1], [0, 1, 1]])/2\n",
    "a1 = A[0]\n",
    "lin.inv(A)\n"
   ]
  },
  {
   "cell_type": "markdown",
   "metadata": {},
   "source": [
    "https://en.wikipedia.org/wiki/Atomic_packing_factor\n"
   ]
  },
  {
   "cell_type": "code",
   "execution_count": 34,
   "metadata": {},
   "outputs": [],
   "source": [
    "from matplotlib.patches import Circle\n",
    "from matplotlib.collections import PatchCollection\n",
    "import matplotlib.pyplot as plt\n"
   ]
  },
  {
   "cell_type": "code",
   "execution_count": 35,
   "metadata": {},
   "outputs": [
    {
     "data": {
      "image/png": "[encoded data removed]",
      "text/plain": [
       "<Figure size 432x288 with 2 Axes>"
      ]
     },
     "metadata": {},
     "output_type": "display_data"
    }
   ],
   "source": [
    "fig, ax = plt.subplots()\n",
    "\n",
    "patches = []\n",
    "c = Circle((2, 3), 2, color='blue')\n",
    "patches.append(c)\n",
    "c = Circle((4, 5), 1)\n",
    "patches.append(c)\n",
    "p = PatchCollection(patches, alpha=0.4)\n",
    "colors = 100*random.rand(len(patches))\n",
    "p.set_array(np.array(colors))\n",
    "ax.add_collection(p)\n",
    "fig.colorbar(p, ax=ax)\n",
    "draw()\n",
    "plt.show()"
   ]
  },
  {
   "cell_type": "code",
   "execution_count": 36,
   "metadata": {},
   "outputs": [
    {
     "data": {
      "image/png": "[encoded data removed]",
      "text/plain": [
       "<Figure size 432x288 with 2 Axes>"
      ]
     },
     "metadata": {},
     "output_type": "display_data"
    }
   ],
   "source": [
    "import numpy as np\n",
    "import matplotlib\n",
    "from matplotlib.patches import Circle, Wedge, Polygon\n",
    "from matplotlib.collections import PatchCollection\n",
    "import matplotlib.pyplot as plt\n",
    "\n",
    "# Fixing random state for reproducibility\n",
    "np.random.seed(19680801)\n",
    "\n",
    "\n",
    "fig, ax = plt.subplots()\n",
    "\n",
    "N = 3\n",
    "x = np.random.rand(N)\n",
    "y = np.random.rand(N)\n",
    "radii = 0.1*np.random.rand(N)\n",
    "patches = []\n",
    "for x1, y1, r in zip(x, y, radii):\n",
    "    circle = Circle((x1, y1), r)\n",
    "    patches.append(circle)\n",
    "\n",
    "colors = 100*np.random.rand(len(patches))\n",
    "p = PatchCollection(patches, alpha=0.4)\n",
    "p.set_array(np.array(colors))\n",
    "ax.add_collection(p)\n",
    "fig.colorbar(p, ax=ax)\n",
    "\n",
    "plt.show()"
   ]
  },
  {
   "cell_type": "markdown",
   "metadata": {
    "nbpresent": {
     "id": "1920102b-d92a-48c8-9e8d-3b2b9b8a84c5"
    },
    "slideshow": {
     "slide_type": "slide"
    }
   },
   "source": [
    "## Házi feladatok\n",
    "\n",
    "**Gy1.** Hány féle rács lehetséges 2D-ben? (Segítség: $a$, $b$ és $\\alpha$ cellaparaméterek)\n",
    "\n",
    "**Gy2.** Milyen a Bravais-rács és hány atom van az elemi cellában az ábrán látható Kagomé-rács, illetve gyémántszerkezet esetén?"
   ]
  },
  {
   "cell_type": "markdown",
   "metadata": {
    "nbpresent": {
     "id": "ae85e9a2-d7d0-4768-945d-548bcdc89362"
    },
    "slideshow": {
     "slide_type": "skip"
    }
   },
   "source": [
    "![](https://upload.wikimedia.org/wikipedia/commons/9/92/2d-bravais_labeled.svg)"
   ]
  },
  {
   "cell_type": "code",
   "execution_count": null,
   "metadata": {
    "nbpresent": {
     "id": "0c81d177-0be5-4b3d-a22d-1a58d4c0c1da"
    }
   },
   "outputs": [],
   "source": []
  }
 ],
 "metadata": {
  "celltoolbar": "Slideshow",
  "kernelspec": {
   "display_name": "Python 3",
   "language": "python",
   "name": "python3"
  },
  "language_info": {
   "codemirror_mode": {
    "name": "ipython",
    "version": 3
   },
   "file_extension": ".py",
   "mimetype": "text/x-python",
   "name": "python",
   "nbconvert_exporter": "python",
   "pygments_lexer": "ipython3",
   "version": "3.6.5"
  }
 },
 "nbformat": 4,
 "nbformat_minor": 2
}
