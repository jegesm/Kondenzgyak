{
 "cells": [
  {
   "cell_type": "markdown",
   "metadata": {},
   "source": [
    "https://www.fzu.cz/crystbox"
   ]
  },
  {
   "cell_type": "markdown",
   "metadata": {},
   "source": [
    "http://iopscience.iop.org/article/10.1088/1742-5468/aad6be\n",
    "\n",
    "\"The prime numbers have been a source of fascination for millennia and continue to surprise us. Motivated by the hyperuniformity concept, which has attracted recent attention in physics and materials science, we show that the prime numbers in certain large intervals possess unanticipated order across length scales and represent the first example of a new class of many-particle systems with pure point diffraction patterns, which we call effectively limit-periodic. In particular, the primes in this regime are hyperuniform. This is shown analytically using the structure factor , proportional to the scattering intensity from a many-particle system. Remarkably, the structure factor of the primes is characterized by dense Bragg peaks, like a quasicrystal, but positioned at certain rational wavenumbers, like a limit-periodic point pattern. However, the primes show an erratic pattern of occupied and unoccupied sites, very different from the predictable patterns of standard limit-periodic systems. We also identify a transition between ordered and disordered prime regimes that depends on the intervals studied. Our analysis leads to an algorithm that enables one to predict primes with high accuracy. Effective limit-periodicity deserves future investigation in physics, independent of its link to the primes.\""
   ]
  },
  {
   "cell_type": "code",
   "execution_count": null,
   "metadata": {},
   "outputs": [],
   "source": []
  }
 ],
 "metadata": {
  "kernelspec": {
   "display_name": "Python 3",
   "language": "python",
   "name": "python3"
  },
  "language_info": {
   "codemirror_mode": {
    "name": "ipython",
    "version": 3
   },
   "file_extension": ".py",
   "mimetype": "text/x-python",
   "name": "python",
   "nbconvert_exporter": "python",
   "pygments_lexer": "ipython3",
   "version": "3.6.5"
  }
 },
 "nbformat": 4,
 "nbformat_minor": 2
}
