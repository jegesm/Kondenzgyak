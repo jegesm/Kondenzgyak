{
 "cells": [
  {
   "cell_type": "markdown",
   "metadata": {
    "slideshow": {
     "slide_type": "skip"
    }
   },
   "source": [
    "$\\newcommand{\\mul}[1]{\\mathbf{\\underline{#1}}}$"
   ]
  },
  {
   "cell_type": "markdown",
   "metadata": {
    "slideshow": {
     "slide_type": "slide"
    }
   },
   "source": [
    "## Diszlokáció\n",
    "Külső erő hatására az atomi oszlopok darabonként helyezkednek át, nem egyszerre csúszik el az egész sík.\n",
    "<img src=\"../images/Sheardisloc.png\">"
   ]
  },
  {
   "cell_type": "markdown",
   "metadata": {
    "slideshow": {
     "slide_type": "slide"
    }
   },
   "source": [
    "### Burgers vektor\n",
    "* Éldiszlokáció esetén\n",
    "\n",
    "$$e_l \\bot b$$\n",
    "<img src=\"../images/eldiszlokuj.png\" width=\"300em\">"
   ]
  },
  {
   "cell_type": "markdown",
   "metadata": {
    "slideshow": {
     "slide_type": "slide"
    }
   },
   "source": [
    "* Csavar diszlokáció esetén\n",
    "\n",
    "$$e_l \\parallel b$$"
   ]
  },
  {
   "cell_type": "markdown",
   "metadata": {
    "slideshow": {
     "slide_type": "slide"
    }
   },
   "source": [
    "<img src=\"../images/Disloc.png\" width=\"400em\">"
   ]
  },
  {
   "cell_type": "markdown",
   "metadata": {
    "slideshow": {
     "slide_type": "slide"
    }
   },
   "source": [
    "<img src=\"../images/eldiszlok.png\" width=\"400px\">\n",
    "Egy felületre ható $\\mul{F}$ erő iránya nem feltétlenül párhuzamos a felület $\\Delta \\mul{A}$ normálisával. Közöttük a $\\mul{\\underline{\\sigma}}$ feszültségtenzor adja meg az arányosságot:\n",
    "\n",
    "* $\\mul{\\underline{\\sigma}}$ szimmetrikus tenzor."
   ]
  },
  {
   "cell_type": "markdown",
   "metadata": {
    "slideshow": {
     "slide_type": "slide"
    }
   },
   "source": [
    "<img src=\"../images/dAfelulet.png\" width=\"200px\">\n",
    "\n",
    "A felület kifejezhető $\\Delta \\mul{A}=\\mul{s}\\times{\\mul{l}}$, ahol $\\Delta \\mul{A}$ párhuzamos a felület normálisával.\n",
    "A felület nagysága ennek az abszolút értéke.\n",
    "\n",
    "Az erő, ami $\\mul{A}$ felületre hat:\n",
    "$$\\mul{F}_\\mul{A}=\\mul{\\underline{\\sigma}}\\Delta \\mul{A}=\\mul{\\underline{\\sigma}}(\\mul{s}\\times{\\mul{l}})$$"
   ]
  },
  {
   "cell_type": "markdown",
   "metadata": {
    "slideshow": {
     "slide_type": "slide"
    }
   },
   "source": [
    "<img src=\"../images/eldiszlok2koord.png\" width=\"200px\">\n",
    "\n",
    "Ha a feszültség tenzor csak egy darab nyíró tagot tartalmaz: $\\begin{align} \\mul{\\underline{\\sigma}} =  \\begin{pmatrix} 0 & 0 & \\tau \\\\ 0 & 0 & 0 \\\\ \\tau & 0 & 0 \\end{pmatrix},  \\end{align}$ ahol $\\tau = \\sigma_{xz} = \\sigma_{zx} $\n",
    "\n",
    "$$|\\mul{F}_\\mul{A}|=ls\\tau$$"
   ]
  },
  {
   "cell_type": "markdown",
   "metadata": {
    "slideshow": {
     "slide_type": "slide"
    }
   },
   "source": [
    "A munka amit végezni kell $\\mul{A}$ felületen\n",
    "\n",
    "$W_\\mul{A} = |\\mul{F}_\\mul{A}| |\\mul{b}| = lsb\\tau$\n",
    "\n",
    "Ezzel szemben, ha a diszlokáción végzünk munkát, vagyis eltoljuk $s$ távolságra:\n",
    "\n",
    "$W_\\mul{b} = |\\mul{F}_\\mul{b}| s $\n",
    "\n",
    "Ebből következik, hogy \n",
    "\n",
    "$$|\\mul{F}_\\mul{b}|=l\\mul{b}\\tau$$"
   ]
  },
  {
   "cell_type": "markdown",
   "metadata": {
    "slideshow": {
     "slide_type": "skip"
    }
   },
   "source": [
    "<img src=\"../images/eldiszlok2.png\" width=\"200px\">\n",
    "\n",
    "Ezesetben $\\begin{align} \\mul{\\underline{\\sigma}} =  \\begin{pmatrix} 0 & 0 & 0\\\\ 0 & 0 & 0 \\\\ 0 & 0 & \\sigma \\end{pmatrix},  \\end{align}$\n",
    "\n",
    "$$|\\mul{F}|=wl\\sigma$$"
   ]
  },
  {
   "cell_type": "markdown",
   "metadata": {
    "slideshow": {
     "slide_type": "skip"
    }
   },
   "source": [
    "A munka amit végezni kell $\\mul{A}$ felületen\n",
    "\n",
    "$W_\\mul{A} = |\\mul{F}_\\mul{A}| |\\mul{b}| = wlb\\sigma$\n",
    "\n",
    "Ezzel szemben, ha a diszlokáción végzünk munkát, vagyis eltoljuk $l$ távolságra:\n",
    "\n",
    "$W_b = |\\mul{F}_b| l $\n",
    "\n",
    "Ebből következik, hogy \n",
    "\n",
    "$$|\\mul{F}_b|=l\\mul{b}\\sigma$$"
   ]
  },
  {
   "cell_type": "markdown",
   "metadata": {
    "slideshow": {
     "slide_type": "slide"
    }
   },
   "source": [
    "### Általánosan véve\n",
    "$\\mul{F}_\\mul{A}=\\mul{\\underline{\\sigma}}(\\mul{s}\\times\\mul{l})$\n",
    "\n",
    "$W_\\mul{A} = \\mul{F}_\\mul{A}\\mul{b}=\\left[ \\mul{\\underline{\\sigma}}(\\mul{s}\\times\\mul{l}) \\right]\\mul{b}$\n",
    "\n",
    "$W_\\mul{A} = \\sum_{lijk}\\sigma_{li}\\epsilon_{ijk}s_j l_k b_l$\n",
    "\n",
    "Cseréljük fel a tagokat:\n",
    "\n",
    "$= \\sum_{ijk}\\epsilon_{ijkl} s_j l_k \\sigma_{li} b_l  = \\sum_{ijk}\\epsilon_{jki} l_k(\\mul{\\underline{\\sigma}}\\mul{b})_i s_j$\n",
    "\n",
    "$W_\\mul{A} = \\mul{F}_\\mul{A}\\mul{b}=\\left[ \\mul{l}\\times(\\mul{\\underline{\\sigma}}\\mul{b}) \\right]\\mul{s}$"
   ]
  },
  {
   "cell_type": "markdown",
   "metadata": {
    "slideshow": {
     "slide_type": "slide"
    }
   },
   "source": [
    "$W_\\mul{A} = \\mul{F}_\\mul{A}\\mul{b}=\\left[ \\mul{l}\\times(\\mul{\\underline{\\sigma}}\\mul{b}) \\right]\\mul{s}$\n",
    "\n",
    "Így adódik a diszlokáción végzett munkából a diszlokációra hat erő:\n",
    "\n",
    "$W_\\mul{b} = \\mul{F}_\\mul{b}\\mul{s} --> \\mul{F}_\\mul{b} = \\mul{l}\\times(\\mul{\\underline{\\sigma}}\\mul{b})$\n",
    "\n",
    "Ez a Peach-Koehler formula. Az erő merőleges a diszlokációs vektor irányára."
   ]
  },
  {
   "cell_type": "markdown",
   "metadata": {
    "slideshow": {
     "slide_type": "slide"
    }
   },
   "source": [
    "Határozzuk  meg  az ábrán látható  két  párhuzamos  éldiszlokáció  között  ható  (egységnyi hosszra  jutó)  erőt!  Az (1) diszlokáció  a z-tengelyen  található,  a (2)-es  pedig  az (x, y) pontban metszi az x-y síkot. A diszlokációk Burgers-vektora $b=(b,0,0)$ és $b=(−b,0,0)$\n",
    "\n",
    "\n",
    "<img src=\"../images/diszlokaciofeladat1.png\" width=\"200px\">\n",
    "Volterra meghatározta az éldiszlokáció körül kialakuló feszültségtenzor alakját\n",
    "$\\begin{align} \\mul{\\underline{\\sigma}} =  \\begin{pmatrix} \\sigma_{xx} & \\sigma_{xy} & 0\\\\ \\sigma_{yx} & \\sigma_{yy} & 0 \\\\ 0 & 0 & \\sigma_{zz} \\end{pmatrix},  \\end{align}$\n",
    "$\\sigma_{xx} = \\frac{\\mu b}{2\\pi (1-\\nu)}\\frac{y(3x^2+y^2)}{(x^2+y^2)^2}$\n",
    "\n",
    "$\\sigma_{xy} = \\sigma_{yx} = \\frac{\\mu b}{2\\pi (1-\\nu)}\\frac{y(x^2-y^2)}{(x^2+y^2)^2}$\n",
    "\n",
    "$l$ a diszlokáció irányvektora, ami a z-tengellyel párhuzamos $\\mul{e}_l = (0,0,1)$"
   ]
  },
  {
   "cell_type": "markdown",
   "metadata": {},
   "source": [
    "$\\mul{F} = \\mul{l}\\times(\\mul{\\underline{\\sigma}}\\mul{b}) = \\begin{pmatrix} 0 \\\\ 0 \\\\ 1\\end{pmatrix}\\times \\begin{pmatrix} \\sigma_{xx} & \\sigma_{xy} & 0\\\\ \\sigma_{yx} & \\sigma_{yy} & 0 \\\\ 0 & 0 & \\sigma_{zz} \\end{pmatrix} \\begin{pmatrix} -b \\\\ 0 \\\\ 0\\end{pmatrix} = \\begin{pmatrix} 0 \\\\ 0 \\\\ 1\\end{pmatrix}\\times\\begin{pmatrix} -b\\sigma_{xx} \\\\ -b\\sigma{yx} \\\\ 0\\end{pmatrix}=\\begin{pmatrix} b\\sigma_{yx} \\\\ -b\\sigma_{xx} \\\\ 0\\end{pmatrix}$"
   ]
  },
  {
   "cell_type": "markdown",
   "metadata": {
    "slideshow": {
     "slide_type": "skip"
    }
   },
   "source": [
    "Lerajzolni interaktívan az erőmezőt, fclimb és fglide-ra"
   ]
  },
  {
   "cell_type": "code",
   "execution_count": null,
   "metadata": {},
   "outputs": [],
   "source": []
  }
 ],
 "metadata": {
  "celltoolbar": "Slideshow",
  "kernelspec": {
   "display_name": "Python 3",
   "language": "python",
   "name": "python3"
  },
  "language_info": {
   "codemirror_mode": {
    "name": "ipython",
    "version": 3
   },
   "file_extension": ".py",
   "mimetype": "text/x-python",
   "name": "python",
   "nbconvert_exporter": "python",
   "pygments_lexer": "ipython3",
   "version": "3.6.5"
  },
  "latex_envs": {
   "LaTeX_envs_menu_present": true,
   "autoclose": false,
   "autocomplete": true,
   "bibliofile": "biblio.bib",
   "cite_by": "apalike",
   "current_citInitial": 1,
   "eqLabelWithNumbers": false,
   "eqNumInitial": 1,
   "hotkeys": {
    "equation": "Ctrl-E",
    "itemize": "Ctrl-I"
   },
   "labels_anchors": false,
   "latex_user_defs": false,
   "report_style_numbering": false,
   "user_envs_cfg": false
  }
 },
 "nbformat": 4,
 "nbformat_minor": 2
}
